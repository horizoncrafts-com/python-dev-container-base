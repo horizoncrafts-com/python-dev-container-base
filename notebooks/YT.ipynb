{
 "cells": [
  {
   "cell_type": "code",
   "execution_count": 1,
   "metadata": {},
   "outputs": [],
   "source": [
    "import os\n",
    "import json\n",
    "from dotenv import load_dotenv"
   ]
  },
  {
   "cell_type": "code",
   "execution_count": 2,
   "metadata": {},
   "outputs": [
    {
     "data": {
      "text/plain": [
       "True"
      ]
     },
     "execution_count": 2,
     "metadata": {},
     "output_type": "execute_result"
    }
   ],
   "source": [
    "load_dotenv('../keys.env')"
   ]
  },
  {
   "cell_type": "code",
   "execution_count": 6,
   "metadata": {},
   "outputs": [],
   "source": [
    "youtube_api_key = os.getenv(\"YOUTUBE_API_KEY\")\n",
    "\n",
    "from googleapiclient.discovery import build\n",
    "\n",
    "def create_youtube_client(api_key: str):\n",
    "    return build('youtube', 'v3', developerKey=api_key)\n",
    "\n",
    "youtube_client = create_youtube_client(youtube_api_key)\n"
   ]
  },
  {
   "cell_type": "code",
   "execution_count": 11,
   "metadata": {},
   "outputs": [],
   "source": [
    "def get_channel_videos(channel_id: str, max_results: int = None) -> list:\n",
    "    \"\"\" Get list of videos from a channel using pagination to extend API's 50 results limitation\"\"\"\n",
    "    videos = []\n",
    "    next_page_token = None\n",
    "    \n",
    "    while True:\n",
    "        request = youtube_client.search().list(\n",
    "            part='snippet',\n",
    "            channelId=channel_id,\n",
    "            maxResults=50,  # Maximum allowed per request\n",
    "            pageToken=next_page_token,\n",
    "            type='video'\n",
    "        )\n",
    "        response = request.execute()\n",
    "        videos.extend(response['items'])\n",
    "        \n",
    "        # Stop if we've reached desired number of videos\n",
    "        if max_results and len(videos) >= max_results:\n",
    "            return videos[:max_results]\n",
    "            \n",
    "        # Check if there are more pages\n",
    "        next_page_token = response.get('nextPageToken')\n",
    "        if not next_page_token:\n",
    "            break\n",
    "            \n",
    "    return videos\n",
    "\n",
    "def get_video_details(video_id: str):\n",
    "    request = youtube_client.videos().list(\n",
    "        part='snippet,contentDetails,statistics',\n",
    "        id=video_id\n",
    "    )\n",
    "    response = request.execute()\n",
    "    return response['items'][0]\n",
    "\n",
    "def get_channel_id(channel_name: str):\n",
    "    request = youtube_client.channels().list(\n",
    "        part='snippet',\n",
    "        forUsername=channel_name\n",
    "    )\n",
    "    response = request.execute()\n",
    "    return response['items'][0]['id']\n"
   ]
  },
  {
   "cell_type": "code",
   "execution_count": null,
   "metadata": {},
   "outputs": [],
   "source": [
    "CHANNEL_NAME = ''\n",
    "\n",
    "channel_id = get_channel_id(CHANNEL_NAME)\n",
    "print(channel_id)"
   ]
  },
  {
   "cell_type": "code",
   "execution_count": 14,
   "metadata": {},
   "outputs": [
    {
     "data": {
      "text/plain": [
       "1"
      ]
     },
     "execution_count": 14,
     "metadata": {},
     "output_type": "execute_result"
    }
   ],
   "source": [
    "get_channel_videos(channel_id, 100)"
   ]
  },
  {
   "cell_type": "code",
   "execution_count": null,
   "metadata": {},
   "outputs": [],
   "source": []
  }
 ],
 "metadata": {
  "kernelspec": {
   "display_name": "Python 3",
   "language": "python",
   "name": "python3"
  },
  "language_info": {
   "codemirror_mode": {
    "name": "ipython",
    "version": 3
   },
   "file_extension": ".py",
   "mimetype": "text/x-python",
   "name": "python",
   "nbconvert_exporter": "python",
   "pygments_lexer": "ipython3",
   "version": "3.11.10"
  }
 },
 "nbformat": 4,
 "nbformat_minor": 2
}
