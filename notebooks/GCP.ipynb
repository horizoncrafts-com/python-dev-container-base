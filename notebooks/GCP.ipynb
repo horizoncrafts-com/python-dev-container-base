{
 "cells": [
  {
   "cell_type": "code",
   "execution_count": 1,
   "id": "7bf9ce61-4385-46ee-ae5e-2aa3158ac49a",
   "metadata": {},
   "outputs": [
    {
     "name": "stderr",
     "output_type": "stream",
     "text": [
      "/home/vscode/.local/lib/python3.11/site-packages/tqdm/auto.py:21: TqdmWarning: IProgress not found. Please update jupyter and ipywidgets. See https://ipywidgets.readthedocs.io/en/stable/user_install.html\n",
      "  from .autonotebook import tqdm as notebook_tqdm\n"
     ]
    }
   ],
   "source": [
    "import os\n",
    "import google.generativeai as genai\n",
    "import json\n",
    "from dotenv import load_dotenv"
   ]
  },
  {
   "cell_type": "code",
   "execution_count": 7,
   "id": "08e58f18",
   "metadata": {},
   "outputs": [
    {
     "data": {
      "text/plain": [
       "True"
      ]
     },
     "execution_count": 7,
     "metadata": {},
     "output_type": "execute_result"
    }
   ],
   "source": [
    "load_dotenv('../keys.env')"
   ]
  },
  {
   "cell_type": "code",
   "execution_count": 8,
   "id": "edb5689a-39b0-4dba-aa4b-971c9a9d3fe2",
   "metadata": {},
   "outputs": [],
   "source": [
    "api_key = os.getenv(\"GEMINI_API_KEY\")\n",
    "\n",
    "genai.configure(api_key=api_key)\n",
    "\n",
    "generation_config = {\n",
    "    \"temperature\": 1,\n",
    "    \"top_p\": 0.95,\n",
    "    \"top_k\": 40,\n",
    "    \"max_output_tokens\": 8192,\n",
    "    # \"response_mime_type\": \"application/json\",\n",
    "}"
   ]
  },
  {
   "cell_type": "code",
   "execution_count": 9,
   "id": "4b6d21f2-6ae2-4e9f-af9e-b367ba0088c8",
   "metadata": {},
   "outputs": [],
   "source": [
    "client = genai.GenerativeModel(\n",
    "            model_name=\"gemini-1.5-flash\"\n",
    "        )"
   ]
  },
  {
   "cell_type": "code",
   "execution_count": 11,
   "id": "01173c20-8b64-430e-b64c-73f6bfa85b23",
   "metadata": {},
   "outputs": [
    {
     "data": {
      "text/plain": [
       "'That\\'s \"lorem ipsum\".  It\\'s placeholder text commonly used in the graphic, publishing, and web design industries.  The purpose is to visually represent the final appearance of text without the distraction of actual meaning.  There are many variations, but it\\'s generally based on a passage from Cicero\\'s *De finibus bonorum et malorum*.'"
      ]
     },
     "execution_count": 11,
     "metadata": {},
     "output_type": "execute_result"
    }
   ],
   "source": [
    "response = client.generate_content(\n",
    "                contents=[\"lore ipsum\"],\n",
    "                generation_config=generation_config\n",
    "            )\n",
    "\n",
    "response.text.strip()"
   ]
  }
 ],
 "metadata": {
  "kernelspec": {
   "display_name": "Python 3 (ipykernel)",
   "language": "python",
   "name": "python3"
  },
  "language_info": {
   "codemirror_mode": {
    "name": "ipython",
    "version": 3
   },
   "file_extension": ".py",
   "mimetype": "text/x-python",
   "name": "python",
   "nbconvert_exporter": "python",
   "pygments_lexer": "ipython3",
   "version": "3.11.10"
  }
 },
 "nbformat": 4,
 "nbformat_minor": 5
}
